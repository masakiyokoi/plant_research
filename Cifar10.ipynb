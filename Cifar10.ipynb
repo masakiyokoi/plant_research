{
 "cells": [
  {
   "cell_type": "code",
   "execution_count": 21,
   "metadata": {},
   "outputs": [],
   "source": [
    "#ネットワークの定義\n",
    "#32＊32\n",
    "import chainer\n",
    "import chainer.links as L\n",
    "import chainer.functions as F\n",
    "from chainer.datasets import split_dataset_random\n",
    "from chainer import iterators\n",
    "from chainer import optimizers\n",
    "from chainer.dataset import concat_examples\n",
    "from chainer.cuda import to_cpu\n",
    "from chainer import training\n",
    "from chainer.training import extensions\n",
    "\n",
    "class MyNet(chainer.Chain):\n",
    "\n",
    "    def __init__(self, n_out):\n",
    "        super(MyNet, self).__init__()\n",
    "        with self.init_scope():\n",
    "            self.conv1 = L.Convolution2D(None, 32, 3, 3, 1)\n",
    "            self.conv2 = L.Convolution2D(32, 64, 3, 3, 1)\n",
    "            self.conv3 = L.Convolution2D(64, 128, 3, 3, 1)\n",
    "            self.fc4 = L.Linear(None, 1000)\n",
    "            self.fc5 = L.Linear(1000, n_out)\n",
    "\n",
    "    def __call__(self, x):\n",
    "        h = F.relu(self.conv1(x))\n",
    "        h = F.relu(self.conv2(h))\n",
    "        h = F.relu(self.conv3(h))\n",
    "        h = F.relu(self.fc4(h))\n",
    "        h = self.fc5(h)\n",
    "        return h\n"
   ]
  },
  {
   "cell_type": "markdown",
   "metadata": {},
   "source": [
    "#学習\n",
    "・ネットワークのオブジェクト\n",
    "・バッチサイズ\n",
    "・使用するGPU ID\n",
    "・学習を終了するエポック数\n",
    "・データセットオブジェクト\n",
    "・学習率の初期値\n",
    "・学習率減衰のタイミング"
   ]
  },
  {
   "cell_type": "code",
   "execution_count": 22,
   "metadata": {},
   "outputs": [],
   "source": [
    "from chainer.datasets import cifar\n",
    "\n",
    "\n",
    "def train(network_object, batchsize=128, gpu_id=0, max_epoch=20, train_dataset=None, valid_dataset=None, test_dataset=None, postfix='', base_lr=0.01, lr_decay=None):\n",
    "\n",
    "    # 1. Dataset\n",
    "    if train_dataset is None and valid_dataset is None and test_dataset is None:\n",
    "        train_val, test = cifar.get_cifar10()\n",
    "        train_size = int(len(train_val) * 0.9)\n",
    "        train, valid = split_dataset_random(train_val, train_size, seed=0)\n",
    "    else:\n",
    "        train, valid, test = train_dataset, valid_dataset, test_dataset\n",
    "\n",
    "    # 2. Iterator\n",
    "    train_iter = iterators.MultiprocessIterator(train, batchsize)\n",
    "    valid_iter = iterators.MultiprocessIterator(valid, batchsize, False, False)\n",
    "\n",
    "    # 3. Model\n",
    "    net = L.Classifier(network_object)\n",
    "\n",
    "    # 4. Optimizer\n",
    "    optimizer = optimizers.MomentumSGD(lr=base_lr).setup(net)\n",
    "    optimizer.add_hook(chainer.optimizer.WeightDecay(0.0005))\n",
    "\n",
    "    # 5. Updater\n",
    "    updater = training.StandardUpdater(train_iter, optimizer, device=gpu_id)\n",
    "\n",
    "    # 6. Trainer\n",
    "    trainer = training.Trainer(updater, (max_epoch, 'epoch'), out='{}_cifar10_{}result'.format(network_object.__class__.__name__, postfix))\n",
    "\n",
    "    # 7. Trainer extensions\n",
    "    trainer.extend(extensions.LogReport())\n",
    "    trainer.extend(extensions.observe_lr())\n",
    "    trainer.extend(extensions.Evaluator(valid_iter, net, device=gpu_id), name='val')\n",
    "    trainer.extend(extensions.PrintReport(['epoch', 'main/loss', 'main/accuracy', 'val/main/loss', 'val/main/accuracy', 'elapsed_time', 'lr']))\n",
    "    trainer.extend(extensions.PlotReport(['main/loss', 'val/main/loss'], x_key='epoch', file_name='loss.png'))\n",
    "    trainer.extend(extensions.PlotReport(['main/accuracy', 'val/main/accuracy'], x_key='epoch', file_name='accuracy.png'))\n",
    "    if lr_decay is not None:\n",
    "        trainer.extend(extensions.ExponentialShift('lr', 0.1), trigger=lr_decay)\n",
    "    trainer.run()\n",
    "    del trainer\n",
    "\n",
    "    # 8. Evaluation\n",
    "    test_iter = iterators.MultiprocessIterator(test, batchsize, False, False)\n",
    "    test_evaluator = extensions.Evaluator(test_iter, net, device=gpu_id)\n",
    "    results = test_evaluator()\n",
    "    print('Test accuracy:', results['main/accuracy'])\n",
    "\n",
    "    return net"
   ]
  },
  {
   "cell_type": "code",
   "execution_count": 23,
   "metadata": {},
   "outputs": [
    {
     "name": "stdout",
     "output_type": "stream",
     "text": [
      "epoch       main/loss   main/accuracy  val/main/loss  val/main/accuracy  elapsed_time  lr        \n",
      "\u001b[J1           1.9646      0.288796       1.72072        0.392188           9.45731       0.01        \n",
      "\u001b[J2           1.61473     0.420011       1.53334        0.462305           16.5081       0.01        \n",
      "\u001b[J3           1.48417     0.468683       1.52861        0.461328           22.8805       0.01        \n",
      "\u001b[J4           1.4049      0.496205       1.47557        0.468945           29.9736       0.01        \n",
      "\u001b[J5           1.33747     0.523059       1.35128        0.519141           36.426        0.01        \n",
      "\u001b[J6           1.2771      0.542192       1.32005        0.529297           42.8762       0.01        \n",
      "\u001b[J7           1.22681     0.562144       1.30783        0.543555           49.8151       0.01        \n",
      "\u001b[J8           1.17676     0.582608       1.25526        0.55332            56.4588       0.01        \n",
      "\u001b[J9           1.12168     0.602051       1.21442        0.576367           62.785        0.01        \n",
      "\u001b[J10          1.07304     0.620036       1.21114        0.575586           69.5066       0.01        \n",
      "\u001b[J11          1.0336      0.632502       1.17555        0.586914           76.5054       0.01        \n",
      "\u001b[J12          0.986235    0.650218       1.18364        0.58457            83.189        0.01        \n",
      "\u001b[J13          0.942812    0.66808        1.19904        0.582422           89.1552       0.01        \n",
      "\u001b[J14          0.902958    0.681913       1.19068        0.586328           95.4938       0.01        \n",
      "\u001b[J15          0.867017    0.693493       1.15479        0.603125           102.288       0.01        \n",
      "\u001b[J16          0.818595    0.712473       1.16013        0.597266           109.177       0.01        \n",
      "\u001b[J17          0.776207    0.726585       1.13406        0.607031           116.234       0.01        \n",
      "\u001b[J18          0.728739    0.74403        1.15541        0.606055           122.726       0.01        \n",
      "\u001b[J19          0.683579    0.760016       1.22505        0.587695           129.761       0.01        \n",
      "\u001b[J20          0.643138    0.772505       1.25578        0.600781           136.514       0.01        \n",
      "Test accuracy: 0.6075949\n"
     ]
    }
   ],
   "source": [
    "net = train(MyNet(10), gpu_id=0)"
   ]
  },
  {
   "cell_type": "code",
   "execution_count": null,
   "metadata": {},
   "outputs": [],
   "source": []
  }
 ],
 "metadata": {
  "kernelspec": {
   "display_name": "Python 3",
   "language": "python",
   "name": "python3"
  },
  "language_info": {
   "codemirror_mode": {
    "name": "ipython",
    "version": 3
   },
   "file_extension": ".py",
   "mimetype": "text/x-python",
   "name": "python",
   "nbconvert_exporter": "python",
   "pygments_lexer": "ipython3",
   "version": "3.7.0"
  }
 },
 "nbformat": 4,
 "nbformat_minor": 2
}
