{
 "cells": [
  {
   "cell_type": "code",
   "execution_count": 13,
   "metadata": {},
   "outputs": [],
   "source": [
    "from PIL import Image\n",
    "import glob\n",
    "\n",
    "imgs = glob.glob('./../good_condition/CCYV/*')\n",
    "\n",
    "for path in imgs:\n",
    "    img = Image.open(path)\n",
    "    img_resize = img.resize((256, 256))\n",
    "    new_path = path.replace('good_condition', 'resize_good_condition')\n",
    "    img_resize.save(new_path)"
   ]
  },
  {
   "cell_type": "code",
   "execution_count": 15,
   "metadata": {},
   "outputs": [],
   "source": [
    "from PIL import Image\n",
    "import glob\n",
    "\n",
    "imgs = glob.glob('./../good_condition/CMV/*')\n",
    "\n",
    "for path in imgs:\n",
    "    img = Image.open(path)\n",
    "    img_resize = img.resize((256, 256))\n",
    "    new_path = path.replace('good_condition', 'resize_good_condition')\n",
    "    img_resize.save(new_path)"
   ]
  },
  {
   "cell_type": "code",
   "execution_count": 16,
   "metadata": {},
   "outputs": [],
   "source": [
    "from PIL import Image\n",
    "import glob\n",
    "\n",
    "imgs = glob.glob('./../good_condition/HEALTHY/*')\n",
    "\n",
    "for path in imgs:\n",
    "    img = Image.open(path)\n",
    "    img_resize = img.resize((256, 256))\n",
    "    new_path = path.replace('good_condition', 'resize_good_condition')\n",
    "    img_resize.save(new_path)"
   ]
  },
  {
   "cell_type": "code",
   "execution_count": 17,
   "metadata": {},
   "outputs": [],
   "source": [
    "from PIL import Image\n",
    "import glob\n",
    "\n",
    "imgs = glob.glob('./../good_condition/KGMMV/*')\n",
    "\n",
    "for path in imgs:\n",
    "    img = Image.open(path)\n",
    "    img_resize = img.resize((256, 256))\n",
    "    new_path = path.replace('good_condition', 'resize_good_condition')\n",
    "    img_resize.save(new_path)"
   ]
  },
  {
   "cell_type": "code",
   "execution_count": 19,
   "metadata": {},
   "outputs": [],
   "source": [
    "from PIL import Image\n",
    "import glob\n",
    "\n",
    "imgs = glob.glob('./../good_condition/MYSV/*')\n",
    "\n",
    "for path in imgs:\n",
    "    img = Image.open(path)\n",
    "    img_resize = img.resize((256, 256))\n",
    "    new_path = path.replace('good_condition', 'resize_good_condition')\n",
    "    img_resize.save(new_path)"
   ]
  },
  {
   "cell_type": "code",
   "execution_count": 20,
   "metadata": {},
   "outputs": [],
   "source": [
    "from PIL import Image\n",
    "import glob\n",
    "\n",
    "imgs = glob.glob('./../good_condition/PRSV/*')\n",
    "\n",
    "for path in imgs:\n",
    "    img = Image.open(path)\n",
    "    img_resize = img.resize((256, 256))\n",
    "    new_path = path.replace('good_condition', 'resize_good_condition')\n",
    "    img_resize.save(new_path)"
   ]
  },
  {
   "cell_type": "code",
   "execution_count": 21,
   "metadata": {},
   "outputs": [],
   "source": [
    "from PIL import Image\n",
    "import glob\n",
    "\n",
    "imgs = glob.glob('./../good_condition/WMV/*')\n",
    "\n",
    "for path in imgs:\n",
    "    img = Image.open(path)\n",
    "    img_resize = img.resize((256, 256))\n",
    "    new_path = path.replace('good_condition', 'resize_good_condition')\n",
    "    img_resize.save(new_path)"
   ]
  },
  {
   "cell_type": "code",
   "execution_count": 18,
   "metadata": {},
   "outputs": [],
   "source": [
    "from PIL import Image\n",
    "import glob\n",
    "\n",
    "imgs = glob.glob('./../good_condition/ZYMV/*')\n",
    "\n",
    "for path in imgs:\n",
    "    img = Image.open(path)\n",
    "    img_resize = img.resize((256, 256))\n",
    "    new_path = path.replace('good_condition', 'resize_good_condition')\n",
    "    img_resize.save(new_path)"
   ]
  },
  {
   "cell_type": "code",
   "execution_count": null,
   "metadata": {},
   "outputs": [],
   "source": []
  }
 ],
 "metadata": {
  "kernelspec": {
   "display_name": "Python 3",
   "language": "python",
   "name": "python3"
  },
  "language_info": {
   "codemirror_mode": {
    "name": "ipython",
    "version": 3
   },
   "file_extension": ".py",
   "mimetype": "text/x-python",
   "name": "python",
   "nbconvert_exporter": "python",
   "pygments_lexer": "ipython3",
   "version": "3.7.0"
  }
 },
 "nbformat": 4,
 "nbformat_minor": 2
}
