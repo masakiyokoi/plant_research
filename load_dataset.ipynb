{
 "cells": [
  {
   "cell_type": "code",
   "execution_count": 44,
   "metadata": {},
   "outputs": [],
   "source": [
    "import chainer\n",
    "import cv2\n",
    "import matplotlib.pyplot as plt\n",
    "import glob\n",
    "from chainercv.datasets import DirectoryParsingLabelDataset\n",
    "from chainer.datasets import split_dataset_random\n",
    "\n",
    "def load_dataset(path):\n",
    "    dataset = DirectoryParsingLabelDataset(path)\n",
    "    train_size = int(len(dataset) * 0.9)\n",
    "    train_val, test = split_dataset_random(dataset, train_size, seed=0)\n",
    "    return train_val, test"
   ]
  },
  {
   "cell_type": "code",
   "execution_count": 46,
   "metadata": {},
   "outputs": [],
   "source": [
    "train_val, test = load_dataset('./../resize_good_condition/')"
   ]
  },
  {
   "cell_type": "code",
   "execution_count": 53,
   "metadata": {},
   "outputs": [
    {
     "name": "stdout",
     "output_type": "stream",
     "text": [
      "(3, 1944, 2592)\n"
     ]
    }
   ],
   "source": [
    "print(train_val[7][0].shape)"
   ]
  },
  {
   "cell_type": "code",
   "execution_count": null,
   "metadata": {},
   "outputs": [],
   "source": []
  }
 ],
 "metadata": {
  "kernelspec": {
   "display_name": "Python 3",
   "language": "python",
   "name": "python3"
  },
  "language_info": {
   "codemirror_mode": {
    "name": "ipython",
    "version": 3
   },
   "file_extension": ".py",
   "mimetype": "text/x-python",
   "name": "python",
   "nbconvert_exporter": "python",
   "pygments_lexer": "ipython3",
   "version": "3.7.0"
  }
 },
 "nbformat": 4,
 "nbformat_minor": 2
}
